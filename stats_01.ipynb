
{
 "cells": [
  {
   "cell_type": "code",
   "execution_count": 4,
   "id": "db95c34a",
   "metadata": {},
   "outputs": [
    {
     "name": "stdout",
     "output_type": "stream",
     "text": [
      "           Name  Location   Cuisine  Rating  Seating Capacity  \\\n",
      "0  Restaurant 0     Rural  Japanese     4.0                38   \n",
      "1  Restaurant 1  Downtown   Mexican     3.2                76   \n",
      "2  Restaurant 2     Rural   Italian     4.7                48   \n",
      "3  Restaurant 3     Rural   Italian     4.4                34   \n",
      "4  Restaurant 4  Downtown  Japanese     4.9                88   \n",
      "\n",
      "   Average Meal Price  Marketing Budget  Social Media Followers  \\\n",
      "0               73.98              2224                   23406   \n",
      "1               28.11              4416                   42741   \n",
      "2               48.29              2796                   37285   \n",
      "3               51.55              1167                   15214   \n",
      "4               75.98              3639                   40171   \n",
      "\n",
      "   Chef Experience Years  Number of Reviews  Avg Review Length  \\\n",
      "0                     13                185         161.924906   \n",
      "1                      8                533         148.759717   \n",
      "2                     18                853          56.849189   \n",
      "3                     13                 82         205.433265   \n",
      "4                      9                 78         241.681584   \n",
      "\n",
      "   Ambience Score  Service Quality Score Parking Availability  \\\n",
      "0             1.3                    7.0                  Yes   \n",
      "1             2.6                    3.4                  Yes   \n",
      "2             5.3                    6.7                   No   \n",
      "3             4.6                    2.8                  Yes   \n",
      "4             8.6                    2.1                   No   \n",
      "\n",
      "   Weekend Reservations  Weekday Reservations     Revenue  \n",
      "0                    13                     4   638945.52  \n",
      "1                    48                     6   490207.83  \n",
      "2                    27                    14   541368.62  \n",
      "3                     9                    17   404556.80  \n",
      "4                    37                    26  1491046.35  \n"
     ]
    }
   ],
   "source": [
    "import pandas as pd\n",
    "\n",
    "# Загрузка данных\n",
    "df = pd.read_csv('restaurant_data.csv')\n",
    "\n",
    "# Просмотр первых нескольких строк данных\n",
    "print(df.head())\n",
    "\n"
   ]
  },
  {
   "cell_type": "code",
   "execution_count": 5,
   "id": "ddb5e26c",
   "metadata": {},
   "outputs": [
    {
     "name": "stdout",
     "output_type": "stream",
     "text": [
      "Общее количество ресторанов: 8368\n"
     ]
    }
   ],
   "source": [
    "# Общее количество ресторанов\n",
    "total_restaurants = df['Name'].nunique()\n",
    "print(f\"Общее количество ресторанов: {total_restaurants}\")"
   ]
  },
  {
   "cell_type": "code",
   "execution_count": 6,
   "id": "007071b4",
   "metadata": {},
   "outputs": [
    {
     "name": "stdout",
     "output_type": "stream",
     "text": [
      "Количество ресторанов в каждом районе:\n",
      "Location\n",
      "Downtown    2821\n",
      "Suburban    2785\n",
      "Rural       2762\n",
      "Name: count, dtype: int64\n"
     ]
    }
   ],
   "source": [
    "# Количество ресторанов в каждом районе\n",
    "restaurants_by_location = df['Location'].value_counts()\n",
    "print(\"Количество ресторанов в каждом районе:\")\n",
    "print(restaurants_by_location)"
   ]
  },
  {
   "cell_type": "code",
   "execution_count": 7,
   "id": "802d7340",
   "metadata": {},
   "outputs": [
    {
     "name": "stdout",
     "output_type": "stream",
     "text": [
      "Количество каждого типа ресторанов в каждом районе:\n",
      "Cuisine   American  French  Indian  Italian  Japanese  Mexican\n",
      "Location                                                      \n",
      "Downtown       494     482     449      481       433      482\n",
      "Rural          443     499     431      464       485      440\n",
      "Suburban       479     452     489      468       426      471\n"
     ]
    }
   ],
   "source": [
    "# Количество каждого типа ресторанов в каждом районе\n",
    "restaurants_by_location_and_cuisine = df.groupby(['Location', 'Cuisine']).size().unstack(fill_value=0)\n",
    "print(\"Количество каждого типа ресторанов в каждом районе:\")\n",
    "print(restaurants_by_location_and_cuisine)"
   ]
  },
  {
   "cell_type": "code",
   "execution_count": 8,
   "id": "bd11ecd5",
   "metadata": {},
   "outputs": [
    {
     "name": "stdout",
     "output_type": "stream",
     "text": [
      "Средняя стоимость блюда по типам ресторанов:\n",
      "Cuisine\n",
      "American    40.454527\n",
      "French      60.543008\n",
      "Indian      35.492330\n",
      "Italian     50.345173\n",
      "Japanese    70.444420\n",
      "Mexican     30.404501\n",
      "Name: Average Meal Price, dtype: float64\n"
     ]
    }
   ],
   "source": [
    "# Средняя стоимость блюда по типам ресторанов\n",
    "average_meal_price_by_cuisine = df.groupby('Cuisine')['Average Meal Price'].mean()\n",
    "print(\"Средняя стоимость блюда по типам ресторанов:\")\n",
    "print(average_meal_price_by_cuisine)"
   ]
  },
  {
   "cell_type": "code",
   "execution_count": 9,
   "id": "197107ea",
   "metadata": {},
   "outputs": [
    {
     "name": "stdout",
     "output_type": "stream",
     "text": [
      "Минимальные и максимальные цены на блюда в каждом типе ресторанов:\n",
      "            min    max\n",
      "Cuisine               \n",
      "American  35.00  45.98\n",
      "French    55.01  66.00\n",
      "Indian    30.00  41.00\n",
      "Italian   45.00  55.99\n",
      "Japanese  65.00  76.00\n",
      "Mexican   25.00  36.00\n"
     ]
    }
   ],
   "source": [
    "# Минимальные и максимальные цены на блюда в каждом типе ресторанов\n",
    "meal_price_range_by_cuisine = df.groupby('Cuisine')['Average Meal Price'].agg(['min', 'max'])\n",
    "print(\"Минимальные и максимальные цены на блюда в каждом типе ресторанов:\")\n",
    "print(meal_price_range_by_cuisine)"
   ]
  },
  {
   "cell_type": "code",
   "execution_count": 10,
   "id": "65d366ca",
   "metadata": {},
   "outputs": [
    {
     "name": "stdout",
     "output_type": "stream",
     "text": [
      "Средняя и общая вместимость ресторанов по районам:\n",
      "               mean     sum\n",
      "Location                   \n",
      "Downtown  80.079759  225905\n",
      "Rural     40.100652  110758\n",
      "Suburban  60.035189  167198\n"
     ]
    }
   ],
   "source": [
    "# Средняя и общая вместимость ресторанов по районам\n",
    "seating_capacity_by_location = df.groupby('Location')['Seating Capacity'].agg(['mean', 'sum'])\n",
    "print(\"Средняя и общая вместимость ресторанов по районам:\")\n",
    "print(seating_capacity_by_location)"
   ]
  },
  {
   "cell_type": "code",
   "execution_count": 11,
   "id": "b6529713",
   "metadata": {},
   "outputs": [
    {
     "name": "stdout",
     "output_type": "stream",
     "text": [
      "Средняя и общая вместимость по типам ресторанов:\n",
      "               mean    sum\n",
      "Cuisine                   \n",
      "American  60.860876  86179\n",
      "French    59.819958  85722\n",
      "Indian    60.563915  82912\n",
      "Italian   60.474168  85450\n",
      "Japanese  59.023810  79328\n",
      "Mexican   60.495334  84270\n"
     ]
    }
   ],
   "source": [
    "# Средняя и общая вместимость по типам ресторанов\n",
    "seating_capacity_by_cuisine = df.groupby('Cuisine')['Seating Capacity'].agg(['mean', 'sum'])\n",
    "print(\"Средняя и общая вместимость по типам ресторанов:\")\n",
    "print(seating_capacity_by_cuisine)"
   ]
  },
  {
   "cell_type": "code",
   "execution_count": 12,
   "id": "5da3c76e",
   "metadata": {},
   "outputs": [
    {
     "name": "stdout",
     "output_type": "stream",
     "text": [
      "Средний рейтинг ресторанов по районам:\n",
      "Location\n",
      "Downtown    4.013364\n",
      "Rural       4.012962\n",
      "Suburban    3.998420\n",
      "Name: Rating, dtype: float64\n"
     ]
    }
   ],
   "source": [
    "# Средний рейтинг ресторанов по районам\n",
    "average_rating_by_location = df.groupby('Location')['Rating'].mean()\n",
    "print(\"Средний рейтинг ресторанов по районам:\")\n",
    "print(average_rating_by_location)"
   ]
  },
  {
   "cell_type": "code",
   "execution_count": 13,
   "id": "ca85ffb3",
   "metadata": {},
   "outputs": [
    {
     "name": "stdout",
     "output_type": "stream",
     "text": [
      "Средний рейтинг по типам ресторанов:\n",
      "Cuisine\n",
      "American    3.992302\n",
      "French      4.000977\n",
      "Indian      4.012856\n",
      "Italian     4.014650\n",
      "Japanese    4.012574\n",
      "Mexican     4.016798\n",
      "Name: Rating, dtype: float64\n"
     ]
    }
   ],
   "source": [
    "# Средний рейтинг по типам ресторанов\n",
    "average_rating_by_cuisine = df.groupby('Cuisine')['Rating'].mean()\n",
    "print(\"Средний рейтинг по типам ресторанов:\")\n",
    "print(average_rating_by_cuisine)"
   ]
  },
  {
   "cell_type": "code",
   "execution_count": 14,
   "id": "91fa29ea",
   "metadata": {},
   "outputs": [
    {
     "data": {
      "image/png": "[encoded data removed]",
      "text/plain": [
       "<Figure size 640x480 with 1 Axes>"
      ]
     },
     "metadata": {},
     "output_type": "display_data"
    }
   ],
   "source": [
    "# Распределение рейтингов (гистограмма)\n",
    "import matplotlib.pyplot as plt\n",
    "df['Rating'].hist(bins=10)\n",
    "plt.title('Распределение рейтингов')\n",
    "plt.xlabel('Рейтинг')\n",
    "plt.ylabel('Количество ресторанов')\n",
    "plt.show()"
   ]
  },
  {
   "cell_type": "code",
   "execution_count": 15,
   "id": "3f92fff9",
   "metadata": {},
   "outputs": [
    {
     "name": "stdout",
     "output_type": "stream",
     "text": [
      "Среднее количество подписчиков в социальных сетях по районам:\n",
      "Location\n",
      "Downtown    52086.884438\n",
      "Rural       28044.895004\n",
      "Suburban    28167.332855\n",
      "Name: Social Media Followers, dtype: float64\n"
     ]
    }
   ],
   "source": [
    "# Среднее количество подписчиков в социальных сетях по районам\n",
    "average_followers_by_location = df.groupby('Location')['Social Media Followers'].mean()\n",
    "print(\"Среднее количество подписчиков в социальных сетях по районам:\")\n",
    "print(average_followers_by_location)"
   ]
  },
  {
   "cell_type": "code",
   "execution_count": 16,
   "id": "f99c8b15",
   "metadata": {},
   "outputs": [
    {
     "name": "stdout",
     "output_type": "stream",
     "text": [
      "Среднее количество подписчиков по типам ресторанов:\n",
      "Cuisine\n",
      "American    36616.777542\n",
      "French      35918.327285\n",
      "Indian      36109.148283\n",
      "Italian     36594.110403\n",
      "Japanese    35908.885417\n",
      "Mexican     35980.157215\n",
      "Name: Social Media Followers, dtype: float64\n"
     ]
    }
   ],
   "source": [
    "# Среднее количество подписчиков по типам ресторанов\n",
    "average_followers_by_cuisine = df.groupby('Cuisine')['Social Media Followers'].mean()\n",
    "print(\"Среднее количество подписчиков по типам ресторанов:\")\n",
    "print(average_followers_by_cuisine)"
   ]
  },
  {
   "cell_type": "code",
   "execution_count": 17,
   "id": "9d1ee8b9",
   "metadata": {},
   "outputs": [
    {
     "name": "stdout",
     "output_type": "stream",
     "text": [
      "Средний опыт шеф-поваров (в годах) по районам:\n",
      "Location\n",
      "Downtown    10.162708\n",
      "Rural       10.005793\n",
      "Suburban     9.985637\n",
      "Name: Chef Experience Years, dtype: float64\n"
     ]
    }
   ],
   "source": [
    "# Средний опыт шеф-поваров (в годах) по районам\n",
    "average_experience_by_location = df.groupby('Location')['Chef Experience Years'].mean()\n",
    "print(\"Средний опыт шеф-поваров (в годах) по районам:\")\n",
    "print(average_experience_by_location)"
   ]
  },
  {
   "cell_type": "code",
   "execution_count": 18,
   "id": "cda79088",
   "metadata": {},
   "outputs": [
    {
     "name": "stdout",
     "output_type": "stream",
     "text": [
      "Средний опыт шеф-поваров по типам ресторанов:\n",
      "Cuisine\n",
      "American    10.269774\n",
      "French      10.168179\n",
      "Indian       9.963477\n",
      "Italian     10.276716\n",
      "Japanese     9.816964\n",
      "Mexican      9.796841\n",
      "Name: Chef Experience Years, dtype: float64\n"
     ]
    }
   ],
   "source": [
    "# Средний опыт шеф-поваров по типам ресторанов\n",
    "average_experience_by_cuisine = df.groupby('Cuisine')['Chef Experience Years'].mean()\n",
    "print(\"Средний опыт шеф-поваров по типам ресторанов:\")\n",
    "print(average_experience_by_cuisine)"
   ]
  },
  {
   "cell_type": "code",
   "execution_count": 19,
   "id": "36fb1a35",
   "metadata": {},
   "outputs": [
    {
     "name": "stdout",
     "output_type": "stream",
     "text": [
      "Среднее количество отзывов по районам:\n",
      "Location\n",
      "Downtown    522.324353\n",
      "Rural       527.779870\n",
      "Suburban    518.975224\n",
      "Name: Number of Reviews, dtype: float64\n"
     ]
    }
   ],
   "source": [
    "# Среднее количество отзывов по районам\n",
    "average_reviews_by_location = df.groupby('Location')['Number of Reviews'].mean()\n",
    "print(\"Среднее количество отзывов по районам:\")\n",
    "print(average_reviews_by_location)"
   ]
  },
  {
   "cell_type": "code",
   "execution_count": 20,
   "id": "5f6bfd3f",
   "metadata": {},
   "outputs": [
    {
     "name": "stdout",
     "output_type": "stream",
     "text": [
      "Среднее количество отзывов по типам ресторанов:\n",
      "Cuisine\n",
      "American    524.800847\n",
      "French      517.666434\n",
      "Indian      530.636231\n",
      "Italian     519.309979\n",
      "Japanese    527.026786\n",
      "Mexican     519.071788\n",
      "Name: Number of Reviews, dtype: float64\n"
     ]
    }
   ],
   "source": [
    "# Среднее количество отзывов по типам ресторанов\n",
    "average_reviews_by_cuisine = df.groupby('Cuisine')['Number of Reviews'].mean()\n",
    "print(\"Среднее количество отзывов по типам ресторанов:\")\n",
    "print(average_reviews_by_cuisine)"
   ]
  },
  {
   "cell_type": "code",
   "execution_count": 21,
   "id": "a1a6f26e",
   "metadata": {},
   "outputs": [
    {
     "name": "stdout",
     "output_type": "stream",
     "text": [
      "Средняя оценка атмосферы по районам:\n",
      "Location\n",
      "Downtown    5.537398\n",
      "Rural       5.553874\n",
      "Suburban    5.472639\n",
      "Name: Ambience Score, dtype: float64\n"
     ]
    }
   ],
   "source": [
    "# Средняя оценка атмосферы по районам\n",
    "average_ambience_score_by_location = df.groupby('Location')['Ambience Score'].mean()\n",
    "print(\"Средняя оценка атмосферы по районам:\")\n",
    "print(average_ambience_score_by_location)"
   ]
  },
  {
   "cell_type": "code",
   "execution_count": 22,
   "id": "3472bf05",
   "metadata": {},
   "outputs": [
    {
     "name": "stdout",
     "output_type": "stream",
     "text": [
      "Средняя оценка атмосферы по типам ресторанов:\n",
      "Cuisine\n",
      "American    5.431850\n",
      "French      5.522470\n",
      "Indian      5.595106\n",
      "Italian     5.577565\n",
      "Japanese    5.510863\n",
      "Mexican     5.491385\n",
      "Name: Ambience Score, dtype: float64\n"
     ]
    }
   ],
   "source": [
    "# Средняя оценка атмосферы по типам ресторанов\n",
    "average_ambience_score_by_cuisine = df.groupby('Cuisine')['Ambience Score'].mean()\n",
    "print(\"Средняя оценка атмосферы по типам ресторанов:\")\n",
    "print(average_ambience_score_by_cuisine)"
   ]
  },
  {
   "cell_type": "code",
   "execution_count": 23,
   "id": "770cac6a",
   "metadata": {},
   "outputs": [
    {
     "name": "stdout",
     "output_type": "stream",
     "text": [
      "Средняя оценка качества обслуживания по районам:\n",
      "Location\n",
      "Downtown    5.502517\n",
      "Rural       5.538233\n",
      "Suburban    5.485889\n",
      "Name: Service Quality Score, dtype: float64\n"
     ]
    }
   ],
   "source": [
    "# Средняя оценка качества обслуживания по районам\n",
    "average_service_quality_score_by_location = df.groupby('Location')['Service Quality Score'].mean()\n",
    "print(\"Средняя оценка качества обслуживания по районам:\")\n",
    "print(average_service_quality_score_by_location)"
   ]
  },
  {
   "cell_type": "code",
   "execution_count": 24,
   "id": "62147a19",
   "metadata": {},
   "outputs": [
    {
     "name": "stdout",
     "output_type": "stream",
     "text": [
      "Средняя оценка качества обслуживания по типам ресторанов:\n",
      "Cuisine\n",
      "American    5.543291\n",
      "French      5.468597\n",
      "Indian      5.465888\n",
      "Italian     5.429512\n",
      "Japanese    5.641964\n",
      "Mexican     5.509045\n",
      "Name: Service Quality Score, dtype: float64\n"
     ]
    }
   ],
   "source": [
    "# Средняя оценка качества обслуживания по типам ресторанов\n",
    "average_service_quality_score_by_cuisine = df.groupby('Cuisine')['Service Quality Score'].mean()\n",
    "print(\"Средняя оценка качества обслуживания по типам ресторанов:\")\n",
    "print(average_service_quality_score_by_cuisine)"
   ]
  },
  {
   "cell_type": "code",
   "execution_count": 25,
   "id": "2fed8714",
   "metadata": {},
   "outputs": [
    {
     "name": "stdout",
     "output_type": "stream",
     "text": [
      "Количество ресторанов с парковкой и без парковки по районам:\n",
      "Parking Availability    No   Yes\n",
      "Location                        \n",
      "Downtown              1395  1426\n",
      "Rural                 1383  1379\n",
      "Suburban              1401  1384\n"
     ]
    }
   ],
   "source": [
    "# Количество ресторанов с парковкой и без парковки по районам\n",
    "parking_availability_by_location = df.groupby(['Location', 'Parking Availability']).size().unstack(fill_value=0)\n",
    "print(\"Количество ресторанов с парковкой и без парковки по районам:\")\n",
    "print(parking_availability_by_location)"
   ]
  },
  {
   "cell_type": "code",
   "execution_count": 26,
   "id": "508704f2",
   "metadata": {},
   "outputs": [
    {
     "name": "stdout",
     "output_type": "stream",
     "text": [
      "Количество ресторанов с парковкой и без парковки по типам ресторанов:\n",
      "Parking Availability   No  Yes\n",
      "Cuisine                       \n",
      "American              687  729\n",
      "French                695  738\n",
      "Indian                696  673\n",
      "Italian               727  686\n",
      "Japanese              688  656\n",
      "Mexican               686  707\n"
     ]
    }
   ],
   "source": [
    "# Количество ресторанов с парковкой и без парковки по типам ресторанов\n",
    "parking_availability_by_cuisine = df.groupby(['Cuisine', 'Parking Availability']).size().unstack(fill_value=0)\n",
    "print(\"Количество ресторанов с парковкой и без парковки по типам ресторанов:\")\n",
    "print(parking_availability_by_cuisine)"
   ]
  },
  {
   "cell_type": "code",
   "execution_count": 27,
   "id": "9a2b6571",
   "metadata": {},
   "outputs": [
    {
     "name": "stdout",
     "output_type": "stream",
     "text": [
      "Среднее количество бронирований на выходные по районам:\n",
      "Location\n",
      "Downtown    39.520737\n",
      "Rural       19.377263\n",
      "Suburban    29.364093\n",
      "Name: Weekend Reservations, dtype: float64\n"
     ]
    }
   ],
   "source": [
    "# Среднее количество бронирований на выходные по районам\n",
    "average_weekend_reservations_by_location = df.groupby('Location')['Weekend Reservations'].mean()\n",
    "print(\"Среднее количество бронирований на выходные по районам:\")\n",
    "print(average_weekend_reservations_by_location)"
   ]
  },
  {
   "cell_type": "code",
   "execution_count": 28,
   "id": "3186df21",
   "metadata": {},
   "outputs": [
    {
     "name": "stdout",
     "output_type": "stream",
     "text": [
      "Среднее количество бронирований на выходные по типам ресторанов:\n",
      "Cuisine\n",
      "American    29.832627\n",
      "French      29.450803\n",
      "Indian      29.733382\n",
      "Italian     29.654636\n",
      "Japanese    28.534970\n",
      "Mexican     29.707825\n",
      "Name: Weekend Reservations, dtype: float64\n"
     ]
    }
   ],
   "source": [
    "# Среднее количество бронирований на выходные по типам ресторанов\n",
    "average_weekend_reservations_by_cuisine = df.groupby('Cuisine')['Weekend Reservations'].mean()\n",
    "print(\"Среднее количество бронирований на выходные по типам ресторанов:\")\n",
    "print(average_weekend_reservations_by_cuisine)"
   ]
  },
  {
   "cell_type": "code",
   "execution_count": 29,
   "id": "bc99c025",
   "metadata": {},
   "outputs": [
    {
     "name": "stdout",
     "output_type": "stream",
     "text": [
      "Среднее количество бронирований в будние дни по районам:\n",
      "Location\n",
      "Downtown    38.822049\n",
      "Rural       19.600652\n",
      "Suburban    29.079713\n",
      "Name: Weekday Reservations, dtype: float64\n"
     ]
    }
   ],
   "source": [
    "# Среднее количество бронирований в будние дни по районам\n",
    "average_weekday_reservations_by_location = df.groupby('Location')['Weekday Reservations'].mean()\n",
    "print(\"Среднее количество бронирований в будние дни по районам:\")\n",
    "print(average_weekday_reservations_by_location)"
   ]
  },
  {
   "cell_type": "code",
   "execution_count": 30,
   "id": "b1eb6ff8",
   "metadata": {},
   "outputs": [
    {
     "name": "stdout",
     "output_type": "stream",
     "text": [
      "Среднее количество бронирований в будние дни по типам ресторанов:\n",
      "Cuisine\n",
      "American    29.594633\n",
      "French      28.926029\n",
      "Indian      30.209642\n",
      "Italian     29.310686\n",
      "Japanese    27.842262\n",
      "Mexican     29.498205\n",
      "Name: Weekday Reservations, dtype: float64\n"
     ]
    }
   ],
   "source": [
    "# Среднее количество бронирований в будние дни по типам ресторанов\n",
    "average_weekday_reservations_by_cuisine = df.groupby('Cuisine')['Weekday Reservations'].mean()\n",
    "print(\"Среднее количество бронирований в будние дни по типам ресторанов:\")\n",
    "print(average_weekday_reservations_by_cuisine)"
   ]
  },
  {
   "cell_type": "code",
   "execution_count": 31,
   "id": "0cc1e212",
   "metadata": {},
   "outputs": [
    {
     "name": "stdout",
     "output_type": "stream",
     "text": [
      "Среднее количество бронирований в будние дни по районам:\n",
      "Location\n",
      "Downtown    38.822049\n",
      "Rural       19.600652\n",
      "Suburban    29.079713\n",
      "Name: Weekday Reservations, dtype: float64\n"
     ]
    }
   ],
   "source": [
    "# Среднее количество бронирований в будние дни по районам\n",
    "average_weekday_reservations_by_location = df.groupby('Location')['Weekday Reservations'].mean()\n",
    "print(\"Среднее количество бронирований в будние дни по районам:\")\n",
    "print(average_weekday_reservations_by_location)"
   ]
  },
  {
   "cell_type": "code",
   "execution_count": 32,
   "id": "2bd55813",
   "metadata": {},
   "outputs": [
    {
     "name": "stdout",
     "output_type": "stream",
     "text": [
      "Среднее количество бронирований в выходные дни по районам:\n",
      "Location\n",
      "Downtown    39.520737\n",
      "Rural       19.377263\n",
      "Suburban    29.364093\n",
      "Name: Weekend Reservations, dtype: float64\n"
     ]
    }
   ],
   "source": [
    "# Среднее количество бронирований в выходные дни по районам\n",
    "average_weekend_reservations_by_location = df.groupby('Location')['Weekend Reservations'].mean()\n",
    "print(\"Среднее количество бронирований в выходные дни по районам:\")\n",
    "print(average_weekend_reservations_by_location)"
   ]
  },
  {
   "cell_type": "code",
   "execution_count": 33,
   "id": "8b95ef7a",
   "metadata": {},
   "outputs": [
    {
     "name": "stdout",
     "output_type": "stream",
     "text": [
      "Среднее количество бронирований в будние дни по типам ресторанов:\n",
      "Cuisine\n",
      "American    29.594633\n",
      "French      28.926029\n",
      "Indian      30.209642\n",
      "Italian     29.310686\n",
      "Japanese    27.842262\n",
      "Mexican     29.498205\n",
      "Name: Weekday Reservations, dtype: float64\n"
     ]
    }
   ],
   "source": [
    "# Среднее количество бронирований в будние дни по типам ресторанов\n",
    "average_weekday_reservations_by_cuisine = df.groupby('Cuisine')['Weekday Reservations'].mean()\n",
    "print(\"Среднее количество бронирований в будние дни по типам ресторанов:\")\n",
    "print(average_weekday_reservations_by_cuisine)"
   ]
  },
  {
   "cell_type": "code",
   "execution_count": 34,
   "id": "ab1b70c3",
   "metadata": {},
   "outputs": [
    {
     "name": "stdout",
     "output_type": "stream",
     "text": [
      "Среднее количество бронирований в выходные дни по типам ресторанов:\n",
      "Cuisine\n",
      "American    29.832627\n",
      "French      29.450803\n",
      "Indian      29.733382\n",
      "Italian     29.654636\n",
      "Japanese    28.534970\n",
      "Mexican     29.707825\n",
      "Name: Weekend Reservations, dtype: float64\n"
     ]
    }
   ],
   "source": [
    "# Среднее количество бронирований в выходные дни по типам ресторанов\n",
    "average_weekend_reservations_by_cuisine = df.groupby('Cuisine')['Weekend Reservations'].mean()\n",
    "print(\"Среднее количество бронирований в выходные дни по типам ресторанов:\")\n",
    "print(average_weekend_reservations_by_cuisine)"
   ]
  },
  {
   "cell_type": "code",
   "execution_count": null,
   "id": "029b3d4b",
   "metadata": {},
   "outputs": [],
   "source": []
  }
 ],
 "metadata": {
  "kernelspec": {
   "display_name": "Python 3 (ipykernel)",
   "language": "python",
   "name": "python3"
  },
  "language_info": {
   "codemirror_mode": {
    "name": "ipython",
    "version": 3
   },
   "file_extension": ".py",
   "mimetype": "text/x-python",
   "name": "python",
   "nbconvert_exporter": "python",
   "pygments_lexer": "ipython3",
   "version": "3.11.7"
  }
 },
 "nbformat": 4,
 "nbformat_minor": 5
}
